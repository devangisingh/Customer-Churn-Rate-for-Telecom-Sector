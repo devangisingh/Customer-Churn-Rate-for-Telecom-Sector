{
  "cells": [
    {
      "cell_type": "markdown",
      "source": [
        "# Predicting Customer Churn Rate for Telecom Sector\n",
        "This file contains Data preprocessing, Logistic Regression and Random Forest for the selected dataset."
      ],
      "metadata": {
        "id": "JMXZi3AKga0v"
      },
      "id": "JMXZi3AKga0v"
    },
    {
      "cell_type": "markdown",
      "id": "78ccd5dd",
      "metadata": {
        "id": "78ccd5dd"
      },
      "source": [
        "**1. Reading Data File**"
      ]
    },
    {
      "cell_type": "code",
      "source": [
        "#Installing & loading required packages\n",
        "install.packages('tidyverse')\n",
        "install.packages('dplyr')\n",
        "library(tidyverse)\n",
        "library(dplyr)"
      ],
      "metadata": {
        "id": "19Ot1zE7R32z",
        "colab": {
          "base_uri": "https://localhost:8080/"
        },
        "outputId": "15692bc0-5541-463d-e7b5-f5870e55dc2b"
      },
      "id": "19Ot1zE7R32z",
      "execution_count": 3,
      "outputs": [
        {
          "output_type": "stream",
          "name": "stderr",
          "text": [
            "Installing package into ‘/usr/local/lib/R/site-library’\n",
            "(as ‘lib’ is unspecified)\n",
            "\n",
            "Installing package into ‘/usr/local/lib/R/site-library’\n",
            "(as ‘lib’ is unspecified)\n",
            "\n",
            "── \u001b[1mAttaching core tidyverse packages\u001b[22m ──────────────────────── tidyverse 2.0.0 ──\n",
            "\u001b[32m✔\u001b[39m \u001b[34mdplyr    \u001b[39m 1.1.4     \u001b[32m✔\u001b[39m \u001b[34mreadr    \u001b[39m 2.1.5\n",
            "\u001b[32m✔\u001b[39m \u001b[34mforcats  \u001b[39m 1.0.0     \u001b[32m✔\u001b[39m \u001b[34mstringr  \u001b[39m 1.5.1\n",
            "\u001b[32m✔\u001b[39m \u001b[34mggplot2  \u001b[39m 3.4.4     \u001b[32m✔\u001b[39m \u001b[34mtibble   \u001b[39m 3.2.1\n",
            "\u001b[32m✔\u001b[39m \u001b[34mlubridate\u001b[39m 1.9.3     \u001b[32m✔\u001b[39m \u001b[34mtidyr    \u001b[39m 1.3.1\n",
            "\u001b[32m✔\u001b[39m \u001b[34mpurrr    \u001b[39m 1.0.2     \n",
            "── \u001b[1mConflicts\u001b[22m ────────────────────────────────────────── tidyverse_conflicts() ──\n",
            "\u001b[31m✖\u001b[39m \u001b[34mpurrr\u001b[39m::\u001b[32m%||%()\u001b[39m   masks \u001b[34mbase\u001b[39m::%||%()\n",
            "\u001b[31m✖\u001b[39m \u001b[34mdplyr\u001b[39m::\u001b[32mfilter()\u001b[39m masks \u001b[34mstats\u001b[39m::filter()\n",
            "\u001b[31m✖\u001b[39m \u001b[34mdplyr\u001b[39m::\u001b[32mlag()\u001b[39m    masks \u001b[34mstats\u001b[39m::lag()\n",
            "\u001b[36mℹ\u001b[39m Use the conflicted package (\u001b[3m\u001b[34m<http://conflicted.r-lib.org/>\u001b[39m\u001b[23m) to force all conflicts to become errors\n"
          ]
        }
      ]
    },
    {
      "cell_type": "code",
      "execution_count": 4,
      "id": "095cf32b",
      "metadata": {
        "id": "095cf32b"
      },
      "outputs": [],
      "source": [
        "tc_id <- \"1_G9Sbf0dpX-hO5wSe75hxtq1lNJ66UqN\"\n",
        "tc_data <- read.csv(sprintf(\"https://docs.google.com/uc?id=%s&export=download\", tc_id))"
      ]
    },
    {
      "cell_type": "code",
      "execution_count": 5,
      "id": "b5e4bb97",
      "metadata": {
        "id": "b5e4bb97",
        "outputId": "48e05b34-a975-4dbc-f966-6bd32e34fe60",
        "colab": {
          "base_uri": "https://localhost:8080/",
          "height": 783
        }
      },
      "outputs": [
        {
          "output_type": "display_data",
          "data": {
            "text/plain": [
              "  customerID           gender          SeniorCitizen      Partner         \n",
              " Length:7043        Length:7043        Min.   :0.0000   Length:7043       \n",
              " Class :character   Class :character   1st Qu.:0.0000   Class :character  \n",
              " Mode  :character   Mode  :character   Median :0.0000   Mode  :character  \n",
              "                                       Mean   :0.1621                     \n",
              "                                       3rd Qu.:0.0000                     \n",
              "                                       Max.   :1.0000                     \n",
              "  Dependents            tenure      PhoneService       MultipleLines     \n",
              " Length:7043        Min.   : 0.00   Length:7043        Length:7043       \n",
              " Class :character   1st Qu.: 9.00   Class :character   Class :character  \n",
              " Mode  :character   Median :29.00   Mode  :character   Mode  :character  \n",
              "                    Mean   :32.37                                        \n",
              "                    3rd Qu.:55.00                                        \n",
              "                    Max.   :72.00                                        \n",
              " InternetService    OnlineSecurity     OnlineBackup       DeviceProtection  \n",
              " Length:7043        Length:7043        Length:7043        Length:7043       \n",
              " Class :character   Class :character   Class :character   Class :character  \n",
              " Mode  :character   Mode  :character   Mode  :character   Mode  :character  \n",
              "                                                                            \n",
              "                                                                            \n",
              "                                                                            \n",
              " TechSupport        StreamingTV        StreamingMovies      Contract        \n",
              " Length:7043        Length:7043        Length:7043        Length:7043       \n",
              " Class :character   Class :character   Class :character   Class :character  \n",
              " Mode  :character   Mode  :character   Mode  :character   Mode  :character  \n",
              "                                                                            \n",
              "                                                                            \n",
              "                                                                            \n",
              " PaperlessBilling   PaymentMethod      MonthlyCharges    TotalCharges \n",
              " Length:7043        Length:7043        Min.   : 18.25   Min.   :   0  \n",
              " Class :character   Class :character   1st Qu.: 35.50   1st Qu.: 394  \n",
              " Mode  :character   Mode  :character   Median : 70.35   Median :1394  \n",
              "                                       Mean   : 64.76   Mean   :2280  \n",
              "                                       3rd Qu.: 89.85   3rd Qu.:3786  \n",
              "                                       Max.   :118.75   Max.   :8550  \n",
              "    Churn          \n",
              " Length:7043       \n",
              " Class :character  \n",
              " Mode  :character  \n",
              "                   \n",
              "                   \n",
              "                   "
            ]
          },
          "metadata": {}
        }
      ],
      "source": [
        "summary(tc_data)"
      ]
    },
    {
      "cell_type": "code",
      "execution_count": 6,
      "id": "eef12a72",
      "metadata": {
        "id": "eef12a72",
        "outputId": "1c1ee2a4-8532-48b1-9a88-493f87193549",
        "colab": {
          "base_uri": "https://localhost:8080/"
        }
      },
      "outputs": [
        {
          "output_type": "stream",
          "name": "stdout",
          "text": [
            "Rows: 7,043\n",
            "Columns: 21\n",
            "$ customerID       \u001b[3m\u001b[90m<chr>\u001b[39m\u001b[23m \"7590-VHVEG\", \"5575-GNVDE\", \"3668-QPYBK\", \"7795-CFOCW…\n",
            "$ gender           \u001b[3m\u001b[90m<chr>\u001b[39m\u001b[23m \"Female\", \"Male\", \"Male\", \"Male\", \"Female\", \"Female\",…\n",
            "$ SeniorCitizen    \u001b[3m\u001b[90m<int>\u001b[39m\u001b[23m 0, 0, 0, 0, 0, 0, 0, 0, 0, 0, 0, 0, 0, 0, 0, 0, 0, 0,…\n",
            "$ Partner          \u001b[3m\u001b[90m<chr>\u001b[39m\u001b[23m \"Yes\", \"No\", \"No\", \"No\", \"No\", \"No\", \"No\", \"No\", \"Yes…\n",
            "$ Dependents       \u001b[3m\u001b[90m<chr>\u001b[39m\u001b[23m \"No\", \"No\", \"No\", \"No\", \"No\", \"No\", \"Yes\", \"No\", \"No\"…\n",
            "$ tenure           \u001b[3m\u001b[90m<int>\u001b[39m\u001b[23m 1, 34, 2, 45, 2, 8, 22, 10, 28, 62, 13, 16, 58, 49, 2…\n",
            "$ PhoneService     \u001b[3m\u001b[90m<chr>\u001b[39m\u001b[23m \"No\", \"Yes\", \"Yes\", \"No\", \"Yes\", \"Yes\", \"Yes\", \"No\", …\n",
            "$ MultipleLines    \u001b[3m\u001b[90m<chr>\u001b[39m\u001b[23m \"No phone service\", \"No\", \"No\", \"No phone service\", \"…\n",
            "$ InternetService  \u001b[3m\u001b[90m<chr>\u001b[39m\u001b[23m \"DSL\", \"DSL\", \"DSL\", \"DSL\", \"Fiber optic\", \"Fiber opt…\n",
            "$ OnlineSecurity   \u001b[3m\u001b[90m<chr>\u001b[39m\u001b[23m \"No\", \"Yes\", \"Yes\", \"Yes\", \"No\", \"No\", \"No\", \"Yes\", \"…\n",
            "$ OnlineBackup     \u001b[3m\u001b[90m<chr>\u001b[39m\u001b[23m \"Yes\", \"No\", \"Yes\", \"No\", \"No\", \"No\", \"Yes\", \"No\", \"N…\n",
            "$ DeviceProtection \u001b[3m\u001b[90m<chr>\u001b[39m\u001b[23m \"No\", \"Yes\", \"No\", \"Yes\", \"No\", \"Yes\", \"No\", \"No\", \"Y…\n",
            "$ TechSupport      \u001b[3m\u001b[90m<chr>\u001b[39m\u001b[23m \"No\", \"No\", \"No\", \"Yes\", \"No\", \"No\", \"No\", \"No\", \"Yes…\n",
            "$ StreamingTV      \u001b[3m\u001b[90m<chr>\u001b[39m\u001b[23m \"No\", \"No\", \"No\", \"No\", \"No\", \"Yes\", \"Yes\", \"No\", \"Ye…\n",
            "$ StreamingMovies  \u001b[3m\u001b[90m<chr>\u001b[39m\u001b[23m \"No\", \"No\", \"No\", \"No\", \"No\", \"Yes\", \"\", \"No\", \"Yes\",…\n",
            "$ Contract         \u001b[3m\u001b[90m<chr>\u001b[39m\u001b[23m \"Month-to-month\", \"One year\", \"Month-to-month\", \"One …\n",
            "$ PaperlessBilling \u001b[3m\u001b[90m<chr>\u001b[39m\u001b[23m \"Yes\", \"No\", \"Yes\", \"No\", \"Yes\", \"Yes\", \"Yes\", \"No\", …\n",
            "$ PaymentMethod    \u001b[3m\u001b[90m<chr>\u001b[39m\u001b[23m \"Electronic check\", \"Mailed check\", \"Mailed check\", \"…\n",
            "$ MonthlyCharges   \u001b[3m\u001b[90m<dbl>\u001b[39m\u001b[23m 29.85, 56.95, 53.85, 42.30, 70.70, 99.65, 89.10, 29.7…\n",
            "$ TotalCharges     \u001b[3m\u001b[90m<dbl>\u001b[39m\u001b[23m 29.85, 1936.30, 107.70, 1903.50, 141.40, 797.20, 1960…\n",
            "$ Churn            \u001b[3m\u001b[90m<chr>\u001b[39m\u001b[23m \"No\", \"No\", \"Yes\", \"No\", \"Yes\", \"Yes\", \"No\", \"No\", \"Y…\n"
          ]
        }
      ],
      "source": [
        "glimpse(tc_data)"
      ]
    },
    {
      "cell_type": "markdown",
      "id": "fc7c59b1",
      "metadata": {
        "id": "fc7c59b1"
      },
      "source": [
        "**2. Data Pre-Processing**"
      ]
    },
    {
      "cell_type": "code",
      "execution_count": 7,
      "id": "09cc9ee3",
      "metadata": {
        "id": "09cc9ee3",
        "outputId": "84390b6a-b40d-4b34-bea8-078fd28e4f46",
        "colab": {
          "base_uri": "https://localhost:8080/",
          "height": 149
        }
      },
      "outputs": [
        {
          "output_type": "display_data",
          "data": {
            "text/html": [
              "<table class=\"dataframe\">\n",
              "<caption>A data.frame: 1 × 21</caption>\n",
              "<thead>\n",
              "\t<tr><th scope=col>customerID</th><th scope=col>gender</th><th scope=col>SeniorCitizen</th><th scope=col>Partner</th><th scope=col>Dependents</th><th scope=col>tenure</th><th scope=col>PhoneService</th><th scope=col>MultipleLines</th><th scope=col>InternetService</th><th scope=col>OnlineSecurity</th><th scope=col>⋯</th><th scope=col>DeviceProtection</th><th scope=col>TechSupport</th><th scope=col>StreamingTV</th><th scope=col>StreamingMovies</th><th scope=col>Contract</th><th scope=col>PaperlessBilling</th><th scope=col>PaymentMethod</th><th scope=col>MonthlyCharges</th><th scope=col>TotalCharges</th><th scope=col>Churn</th></tr>\n",
              "\t<tr><th scope=col>&lt;int&gt;</th><th scope=col>&lt;int&gt;</th><th scope=col>&lt;int&gt;</th><th scope=col>&lt;int&gt;</th><th scope=col>&lt;int&gt;</th><th scope=col>&lt;int&gt;</th><th scope=col>&lt;int&gt;</th><th scope=col>&lt;int&gt;</th><th scope=col>&lt;int&gt;</th><th scope=col>&lt;int&gt;</th><th scope=col>⋯</th><th scope=col>&lt;int&gt;</th><th scope=col>&lt;int&gt;</th><th scope=col>&lt;int&gt;</th><th scope=col>&lt;int&gt;</th><th scope=col>&lt;int&gt;</th><th scope=col>&lt;int&gt;</th><th scope=col>&lt;int&gt;</th><th scope=col>&lt;int&gt;</th><th scope=col>&lt;int&gt;</th><th scope=col>&lt;int&gt;</th></tr>\n",
              "</thead>\n",
              "<tbody>\n",
              "\t<tr><td>0</td><td>0</td><td>0</td><td>0</td><td>0</td><td>0</td><td>0</td><td>0</td><td>0</td><td>0</td><td>⋯</td><td>0</td><td>0</td><td>0</td><td>0</td><td>0</td><td>0</td><td>0</td><td>0</td><td>0</td><td>0</td></tr>\n",
              "</tbody>\n",
              "</table>\n"
            ],
            "text/markdown": "\nA data.frame: 1 × 21\n\n| customerID &lt;int&gt; | gender &lt;int&gt; | SeniorCitizen &lt;int&gt; | Partner &lt;int&gt; | Dependents &lt;int&gt; | tenure &lt;int&gt; | PhoneService &lt;int&gt; | MultipleLines &lt;int&gt; | InternetService &lt;int&gt; | OnlineSecurity &lt;int&gt; | ⋯ ⋯ | DeviceProtection &lt;int&gt; | TechSupport &lt;int&gt; | StreamingTV &lt;int&gt; | StreamingMovies &lt;int&gt; | Contract &lt;int&gt; | PaperlessBilling &lt;int&gt; | PaymentMethod &lt;int&gt; | MonthlyCharges &lt;int&gt; | TotalCharges &lt;int&gt; | Churn &lt;int&gt; |\n|---|---|---|---|---|---|---|---|---|---|---|---|---|---|---|---|---|---|---|---|---|\n| 0 | 0 | 0 | 0 | 0 | 0 | 0 | 0 | 0 | 0 | ⋯ | 0 | 0 | 0 | 0 | 0 | 0 | 0 | 0 | 0 | 0 |\n\n",
            "text/latex": "A data.frame: 1 × 21\n\\begin{tabular}{lllllllllllllllllllll}\n customerID & gender & SeniorCitizen & Partner & Dependents & tenure & PhoneService & MultipleLines & InternetService & OnlineSecurity & ⋯ & DeviceProtection & TechSupport & StreamingTV & StreamingMovies & Contract & PaperlessBilling & PaymentMethod & MonthlyCharges & TotalCharges & Churn\\\\\n <int> & <int> & <int> & <int> & <int> & <int> & <int> & <int> & <int> & <int> & ⋯ & <int> & <int> & <int> & <int> & <int> & <int> & <int> & <int> & <int> & <int>\\\\\n\\hline\n\t 0 & 0 & 0 & 0 & 0 & 0 & 0 & 0 & 0 & 0 & ⋯ & 0 & 0 & 0 & 0 & 0 & 0 & 0 & 0 & 0 & 0\\\\\n\\end{tabular}\n",
            "text/plain": [
              "  customerID gender SeniorCitizen Partner Dependents tenure PhoneService\n",
              "1 0          0      0             0       0          0      0           \n",
              "  MultipleLines InternetService OnlineSecurity ⋯ DeviceProtection TechSupport\n",
              "1 0             0               0              ⋯ 0                0          \n",
              "  StreamingTV StreamingMovies Contract PaperlessBilling PaymentMethod\n",
              "1 0           0               0        0                0            \n",
              "  MonthlyCharges TotalCharges Churn\n",
              "1 0              0            0    "
            ]
          },
          "metadata": {}
        }
      ],
      "source": [
        "#Finding number of empty cells\n",
        "tc_data %>%\n",
        "  summarise_all(~sum(is.na(.)))"
      ]
    },
    {
      "cell_type": "code",
      "source": [
        "#Remove Duplicates & unnecessary data (Data Cleaning)\n",
        "library(stringr)\n",
        "\n",
        "process_data <- function(raw_data) {\n",
        "  cleaned_data <- raw_data %>%\n",
        "    mutate(\n",
        "      # Clean and convert TotalCharges and MonthlyCharges to numeric\n",
        "      TotalCharges = as.numeric(str_replace_all(TotalCharges, \"[^0-9.]\", \"\")),\n",
        "      MonthlyCharges = as.numeric(str_replace_all(MonthlyCharges, \"[^0-9.]\", \"\")),\n",
        "      Churn = ifelse(Churn == \"Yes\" | Churn == 1, 1, 0)\n",
        "    ) %>%\n",
        "    # Round off the values for TotalCharges and MonthlyCharges\n",
        "    mutate(\n",
        "      TotalCharges = round(TotalCharges, 0),\n",
        "      MonthlyCharges = round(MonthlyCharges, 0)\n",
        "    )\n",
        "\n",
        "  return(cleaned_data)\n",
        "}\n"
      ],
      "metadata": {
        "id": "EdyTcY04pX_U"
      },
      "id": "EdyTcY04pX_U",
      "execution_count": 8,
      "outputs": []
    },
    {
      "cell_type": "code",
      "execution_count": 9,
      "id": "315cd550",
      "metadata": {
        "id": "315cd550",
        "outputId": "16b18af0-7e94-4728-ba52-f0927f8e81a4",
        "colab": {
          "base_uri": "https://localhost:8080/"
        }
      },
      "outputs": [
        {
          "output_type": "stream",
          "name": "stdout",
          "text": [
            "Rows: 7,043\n",
            "Columns: 21\n",
            "$ customerID       \u001b[3m\u001b[90m<chr>\u001b[39m\u001b[23m \"7590-VHVEG\", \"5575-GNVDE\", \"3668-QPYBK\", \"7795-CFOCW…\n",
            "$ gender           \u001b[3m\u001b[90m<chr>\u001b[39m\u001b[23m \"Female\", \"Male\", \"Male\", \"Male\", \"Female\", \"Female\",…\n",
            "$ SeniorCitizen    \u001b[3m\u001b[90m<int>\u001b[39m\u001b[23m 0, 0, 0, 0, 0, 0, 0, 0, 0, 0, 0, 0, 0, 0, 0, 0, 0, 0,…\n",
            "$ Partner          \u001b[3m\u001b[90m<chr>\u001b[39m\u001b[23m \"Yes\", \"No\", \"No\", \"No\", \"No\", \"No\", \"No\", \"No\", \"Yes…\n",
            "$ Dependents       \u001b[3m\u001b[90m<chr>\u001b[39m\u001b[23m \"No\", \"No\", \"No\", \"No\", \"No\", \"No\", \"Yes\", \"No\", \"No\"…\n",
            "$ tenure           \u001b[3m\u001b[90m<int>\u001b[39m\u001b[23m 1, 34, 2, 45, 2, 8, 22, 10, 28, 62, 13, 16, 58, 49, 2…\n",
            "$ PhoneService     \u001b[3m\u001b[90m<chr>\u001b[39m\u001b[23m \"No\", \"Yes\", \"Yes\", \"No\", \"Yes\", \"Yes\", \"Yes\", \"No\", …\n",
            "$ MultipleLines    \u001b[3m\u001b[90m<chr>\u001b[39m\u001b[23m \"No phone service\", \"No\", \"No\", \"No phone service\", \"…\n",
            "$ InternetService  \u001b[3m\u001b[90m<chr>\u001b[39m\u001b[23m \"DSL\", \"DSL\", \"DSL\", \"DSL\", \"Fiber optic\", \"Fiber opt…\n",
            "$ OnlineSecurity   \u001b[3m\u001b[90m<chr>\u001b[39m\u001b[23m \"No\", \"Yes\", \"Yes\", \"Yes\", \"No\", \"No\", \"No\", \"Yes\", \"…\n",
            "$ OnlineBackup     \u001b[3m\u001b[90m<chr>\u001b[39m\u001b[23m \"Yes\", \"No\", \"Yes\", \"No\", \"No\", \"No\", \"Yes\", \"No\", \"N…\n",
            "$ DeviceProtection \u001b[3m\u001b[90m<chr>\u001b[39m\u001b[23m \"No\", \"Yes\", \"No\", \"Yes\", \"No\", \"Yes\", \"No\", \"No\", \"Y…\n",
            "$ TechSupport      \u001b[3m\u001b[90m<chr>\u001b[39m\u001b[23m \"No\", \"No\", \"No\", \"Yes\", \"No\", \"No\", \"No\", \"No\", \"Yes…\n",
            "$ StreamingTV      \u001b[3m\u001b[90m<chr>\u001b[39m\u001b[23m \"No\", \"No\", \"No\", \"No\", \"No\", \"Yes\", \"Yes\", \"No\", \"Ye…\n",
            "$ StreamingMovies  \u001b[3m\u001b[90m<chr>\u001b[39m\u001b[23m \"No\", \"No\", \"No\", \"No\", \"No\", \"Yes\", \"\", \"No\", \"Yes\",…\n",
            "$ Contract         \u001b[3m\u001b[90m<chr>\u001b[39m\u001b[23m \"Month-to-month\", \"One year\", \"Month-to-month\", \"One …\n",
            "$ PaperlessBilling \u001b[3m\u001b[90m<chr>\u001b[39m\u001b[23m \"Yes\", \"No\", \"Yes\", \"No\", \"Yes\", \"Yes\", \"Yes\", \"No\", …\n",
            "$ PaymentMethod    \u001b[3m\u001b[90m<chr>\u001b[39m\u001b[23m \"Electronic check\", \"Mailed check\", \"Mailed check\", \"…\n",
            "$ MonthlyCharges   \u001b[3m\u001b[90m<dbl>\u001b[39m\u001b[23m 30, 57, 54, 42, 71, 100, 89, 30, 105, 56, 50, 19, 100…\n",
            "$ TotalCharges     \u001b[3m\u001b[90m<dbl>\u001b[39m\u001b[23m 30, 1936, 108, 1904, 141, 797, 1960, 298, 2934, 3481,…\n",
            "$ Churn            \u001b[3m\u001b[90m<dbl>\u001b[39m\u001b[23m 0, 0, 1, 0, 1, 1, 0, 0, 1, 0, 0, 0, 0, 1, 0, 0, 0, 0,…\n"
          ]
        }
      ],
      "source": [
        "tc_cleaned <- process_data(tc_data)\n",
        "\n",
        "glimpse(tc_cleaned)"
      ]
    },
    {
      "cell_type": "markdown",
      "source": [
        "# Logistic Regression"
      ],
      "metadata": {
        "id": "6W_KTcEjuwMQ"
      },
      "id": "6W_KTcEjuwMQ"
    },
    {
      "cell_type": "code",
      "source": [
        "#Using R with the glm function (generalized linear model) for logistic regression - \"Churn\"(dependent Variable) and \"TotalCharges\", \"MonthlyCharges\"(independent variables)\n",
        "logistic_model <- glm(Churn ~ TotalCharges + MonthlyCharges , data = tc_cleaned, family = binomial)\n",
        "\n",
        "# Print a summary of the logistic regression model\n",
        "summary(logistic_model)"
      ],
      "metadata": {
        "colab": {
          "base_uri": "https://localhost:8080/",
          "height": 382
        },
        "id": "50rflHXAVxX2",
        "outputId": "7ece1cce-cd04-44d4-85bc-be814451596b"
      },
      "id": "50rflHXAVxX2",
      "execution_count": 10,
      "outputs": [
        {
          "output_type": "display_data",
          "data": {
            "text/plain": [
              "\n",
              "Call:\n",
              "glm(formula = Churn ~ TotalCharges + MonthlyCharges, family = binomial, \n",
              "    data = tc_cleaned)\n",
              "\n",
              "Coefficients:\n",
              "                 Estimate Std. Error z value Pr(>|z|)    \n",
              "(Intercept)    -2.803e+00  8.868e-02  -31.61   <2e-16 ***\n",
              "TotalCharges   -6.173e-04  1.969e-05  -31.36   <2e-16 ***\n",
              "MonthlyCharges  4.523e-02  1.430e-03   31.63   <2e-16 ***\n",
              "---\n",
              "Signif. codes:  0 ‘***’ 0.001 ‘**’ 0.01 ‘*’ 0.05 ‘.’ 0.1 ‘ ’ 1\n",
              "\n",
              "(Dispersion parameter for binomial family taken to be 1)\n",
              "\n",
              "    Null deviance: 8150.1  on 7042  degrees of freedom\n",
              "Residual deviance: 6575.6  on 7040  degrees of freedom\n",
              "AIC: 6581.6\n",
              "\n",
              "Number of Fisher Scoring iterations: 4\n"
            ]
          },
          "metadata": {}
        }
      ]
    },
    {
      "cell_type": "code",
      "source": [
        "# Extract coefficients\n",
        "coefficients <- coef(logistic_model)\n",
        "\n",
        "# Handle missing or infinite values in TotalCharges\n",
        "monthly_charges_values <- seq(min(tc_cleaned$MonthlyCharges, na.rm = TRUE),\n",
        "                             max(tc_cleaned$MonthlyCharges, na.rm = TRUE),\n",
        "                             length.out = 100)\n",
        "\n",
        "# Calculate predicted log-odds\n",
        "log_oddss <- coefficients[1] + coefficients[\"MonthlyCharges\"] * monthly_charges_values\n",
        "\n",
        "# Convert log-odds to probabilities\n",
        "probabilities <- 1 / (1 + exp(-log_oddss))\n",
        "\n",
        "plot_data <- data.frame(MonthlyCharges = monthly_charges_values, Probability = probabilities)\n",
        "\n",
        "# Plot the logistic regression curve\n",
        "ggplot(plot_data, aes(x = MonthlyCharges, y = Probability)) +\n",
        "  geom_line(color = \"blue\") +\n",
        "  labs(title = \"Logistic Regression Curve\", x = \"Monthly-Charges\", y = \"Probability of Churn\")"
      ],
      "metadata": {
        "colab": {
          "base_uri": "https://localhost:8080/",
          "height": 437
        },
        "id": "Gbb0fYRf6WQz",
        "outputId": "9f9f80a0-8d8e-4ce0-9595-d197345845ba"
      },
      "id": "Gbb0fYRf6WQz",
      "execution_count": 16,
      "outputs": [
        {
          "output_type": "display_data",
          "data": {
            "text/plain": [
              "plot without title"
            ],
            "image/png": "[encoded data removed]"
          },
          "metadata": {
            "image/png": {
              "width": 420,
              "height": 420
            }
          }
        }
      ]
    },
    {
      "cell_type": "markdown",
      "source": [
        "# Random Forest"
      ],
      "metadata": {
        "id": "wUP0kopN_Ls7"
      },
      "id": "wUP0kopN_Ls7"
    },
    {
      "cell_type": "code",
      "source": [
        "# Install and load the randomForest package\n",
        "install.packages(\"randomForest\")\n",
        "library(randomForest)"
      ],
      "metadata": {
        "colab": {
          "base_uri": "https://localhost:8080/"
        },
        "id": "AVRA57FAx-IH",
        "outputId": "ff8b42b8-3bae-4dfc-e85a-e805a1d840b3"
      },
      "id": "AVRA57FAx-IH",
      "execution_count": 12,
      "outputs": [
        {
          "output_type": "stream",
          "name": "stderr",
          "text": [
            "Installing package into ‘/usr/local/lib/R/site-library’\n",
            "(as ‘lib’ is unspecified)\n",
            "\n",
            "randomForest 4.7-1.1\n",
            "\n",
            "Type rfNews() to see new features/changes/bug fixes.\n",
            "\n",
            "\n",
            "Attaching package: ‘randomForest’\n",
            "\n",
            "\n",
            "The following object is masked from ‘package:dplyr’:\n",
            "\n",
            "    combine\n",
            "\n",
            "\n",
            "The following object is masked from ‘package:ggplot2’:\n",
            "\n",
            "    margin\n",
            "\n",
            "\n"
          ]
        }
      ]
    },
    {
      "cell_type": "code",
      "source": [
        "rf_data <- tc_data\n",
        "\n",
        "# Convert \"Customer_Status\" to a factor with two levels rather than a numeric value\n",
        "rf_data$Churn <- as.factor(rf_data$Churn)\n",
        "\n",
        "# Split the data into training and testing sets\n",
        "set.seed(123)  # for reproducibility\n",
        "train_indices <- sample(1:nrow(rf_data), 0.7 * nrow(rf_data))\n",
        "train_data <- rf_data[train_indices, ]\n",
        "test_data <- rf_data[-train_indices, ]\n"
      ],
      "metadata": {
        "id": "NdVvUXidyXpN"
      },
      "id": "NdVvUXidyXpN",
      "execution_count": 13,
      "outputs": []
    },
    {
      "cell_type": "code",
      "source": [
        "# Build the Random Forest model\n",
        "rf_model <- randomForest(Churn ~ ., data = train_data, ntree = 500)\n",
        "\n",
        "# Make predictions on the test set\n",
        "predictions <- predict(rf_model, test_data)\n",
        "\n",
        "# Evaluate the model (e.g., accuracy)\n",
        "conf_matrix <- table(predictions, test_data$Churn)\n",
        "accuracy <- sum(diag(conf_matrix)) / sum(conf_matrix)\n",
        "print(paste(\"Accuracy:\", accuracy))"
      ],
      "metadata": {
        "colab": {
          "base_uri": "https://localhost:8080/"
        },
        "id": "5Wu089Ai_V6L",
        "outputId": "9513ad8a-112e-4170-f172-b11032d6715d"
      },
      "id": "5Wu089Ai_V6L",
      "execution_count": 14,
      "outputs": [
        {
          "output_type": "stream",
          "name": "stdout",
          "text": [
            "[1] \"Accuracy: 0.808329389493611\"\n"
          ]
        }
      ]
    },
    {
      "cell_type": "code",
      "source": [
        "# Display feature importance\n",
        "varImpPlot(rf_model)"
      ],
      "metadata": {
        "colab": {
          "base_uri": "https://localhost:8080/",
          "height": 437
        },
        "id": "SdBRytT4xWjY",
        "outputId": "ccdf7a0d-911a-4315-9175-e4879930097a"
      },
      "id": "SdBRytT4xWjY",
      "execution_count": 15,
      "outputs": [
        {
          "output_type": "display_data",
          "data": {
            "text/plain": [
              "Plot with title “rf_model”"
            ],
            "image/png": "[encoded data removed]"
          },
          "metadata": {
            "image/png": {
              "width": 420,
              "height": 420
            }
          }
        }
      ]
    }
  ],
  "metadata": {
    "kernelspec": {
      "display_name": "R",
      "language": "R",
      "name": "ir"
    },
    "language_info": {
      "codemirror_mode": "r",
      "file_extension": ".r",
      "mimetype": "text/x-r-source",
      "name": "R",
      "pygments_lexer": "r",
      "version": "4.3.0"
    },
    "colab": {
      "provenance": []
    }
  },
  "nbformat": 4,
  "nbformat_minor": 5
}